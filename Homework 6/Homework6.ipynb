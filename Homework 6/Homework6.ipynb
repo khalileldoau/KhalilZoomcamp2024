{
 "cells": [
  {
   "cell_type": "markdown",
   "id": "b49c2ac4-7112-4de7-a1e3-63213ea21a7e",
   "metadata": {},
   "source": [
    "# Connecting to the Kafka server"
   ]
  },
  {
   "cell_type": "code",
   "execution_count": null,
   "id": "ce505288-c732-4040-8068-dd76c4a29422",
   "metadata": {},
   "outputs": [],
   "source": [
    "import json\n",
    "import time\n",
    "\n",
    "from kafka import KafkaProducer\n",
    "\n",
    "def json_serializer(data):\n",
    "    return json.dumps(data).encode('utf-8')\n",
    "\n",
    "server = 'localhost:9092'\n",
    "\n",
    "producer = KafkaProducer(\n",
    "    bootstrap_servers=[server],\n",
    "    value_serializer=json_serializer\n",
    ")\n",
    "\n",
    "producer.bootstrap_connected()\n"
   ]
  },
  {
   "cell_type": "markdown",
   "id": "e8d1e8c8-dfdc-47d6-a229-d9cd872c52ba",
   "metadata": {},
   "source": [
    "# Sending data to the stream"
   ]
  },
  {
   "cell_type": "code",
   "execution_count": null,
   "id": "69fa2451-e05d-43aa-98cd-f03c04624f68",
   "metadata": {},
   "outputs": [],
   "source": [
    "t0 = time.time()\n",
    "\n",
    "topic_name = 'test-topic'\n",
    "\n",
    "for i in range(10):\n",
    "    message = {'number': i}\n",
    "    producer.send(topic_name, value=message)\n",
    "    print(f\"Sent: {message}\")\n",
    "    time.sleep(0.05)\n",
    "\n",
    "producer.flush()\n",
    "\n",
    "t1 = time.time()\n",
    "print(f'took {(t1 - t0):.2f} seconds')"
   ]
  },
  {
   "cell_type": "markdown",
   "id": "e7ac73d9-27f0-40c3-9e3f-5f1c6436a942",
   "metadata": {},
   "source": [
    "# Sending the Trip Data"
   ]
  },
  {
   "cell_type": "code",
   "execution_count": null,
   "id": "70314974-6671-4515-aa3c-9da7ab0f9f1f",
   "metadata": {},
   "outputs": [],
   "source": [
    "import pandas as pd"
   ]
  },
  {
   "cell_type": "code",
   "execution_count": null,
   "id": "1f839ab5-362e-44bd-89c1-0e5b8d9c5fa6",
   "metadata": {},
   "outputs": [],
   "source": [
    "df = pd.read_csv('green_tripdata_2019-10.csv')"
   ]
  },
  {
   "cell_type": "code",
   "execution_count": null,
   "id": "3da8b47b-8a44-4cfc-ac10-2d17838cd5d0",
   "metadata": {},
   "outputs": [],
   "source": [
    "df.head()"
   ]
  },
  {
   "cell_type": "code",
   "execution_count": null,
   "id": "0fb20e35-e6bb-405e-9245-fc4e901dfa2d",
   "metadata": {},
   "outputs": [],
   "source": [
    "df_green = df[['lpep_pickup_datetime','lpep_dropoff_datetime','PULocationID','DOLocationID','passenger_count','trip_distance','tip_amount']]"
   ]
  },
  {
   "cell_type": "code",
   "execution_count": null,
   "id": "740556d6-1ec8-4d6a-8d28-be7785e93cb9",
   "metadata": {},
   "outputs": [],
   "source": [
    "df_green.head()"
   ]
  },
  {
   "cell_type": "code",
   "execution_count": null,
   "id": "df4b258c-4f1f-4aa9-8fc1-83f9d356dd66",
   "metadata": {},
   "outputs": [],
   "source": [
    "for row in df_green.itertuples(index=False):\n",
    "    row_dict = {col: getattr(row, col) for col in row._fields}\n",
    "    print(row_dict)\n",
    "    break"
   ]
  },
  {
   "cell_type": "code",
   "execution_count": null,
   "id": "5c8e7098-4eda-4d8d-a033-88a5bbda6ced",
   "metadata": {},
   "outputs": [],
   "source": [
    "t0 = time.time()\n",
    "\n",
    "topic_name = 'green-trips'\n",
    "\n",
    "for row in df_green.itertuples(index=False):\n",
    "    row_dict = {col: getattr(row, col) for col in row._fields}\n",
    "    producer.send(topic_name, value=row_dict)\n",
    "    print(f\"Sent: {row_dict}\")\n",
    "    \n",
    "producer.flush()\n",
    "\n",
    "t1 = time.time()\n",
    "print(f'took {(t1 - t0):.2f} seconds')"
   ]
  },
  {
   "cell_type": "markdown",
   "id": "a6b23718-cb74-470a-a595-acc8e0825e2a",
   "metadata": {},
   "source": [
    "# Creating the PySpark consumer"
   ]
  },
  {
   "cell_type": "code",
   "execution_count": null,
   "id": "874bdf45-e2c3-47c7-b9f0-9f0b5cb22eba",
   "metadata": {},
   "outputs": [],
   "source": [
    "import pyspark\n",
    "from pyspark.sql import SparkSession\n",
    "\n",
    "pyspark_version = pyspark.__version__\n",
    "kafka_jar_package = f\"org.apache.spark:spark-sql-kafka-0-10_2.12:{pyspark_version}\"\n",
    "\n",
    "spark = SparkSession \\\n",
    "    .builder \\\n",
    "    .master(\"local[*]\") \\\n",
    "    .appName(\"GreenTripsConsumer\") \\\n",
    "    .config(\"spark.jars.packages\", kafka_jar_package) \\\n",
    "    .getOrCreate()"
   ]
  },
  {
   "cell_type": "code",
   "execution_count": null,
   "id": "68eb9753-bf7a-416c-91d9-a3a78f8e6388",
   "metadata": {},
   "outputs": [],
   "source": [
    "green_stream = spark \\\n",
    "    .readStream \\\n",
    "    .format(\"kafka\") \\\n",
    "    .option(\"kafka.bootstrap.servers\", \"localhost:9092\") \\\n",
    "    .option(\"subscribe\", \"green-trips\") \\\n",
    "    .option(\"startingOffsets\", \"earliest\") \\\n",
    "    .load()"
   ]
  },
  {
   "cell_type": "code",
   "execution_count": null,
   "id": "a4ef3c13-f805-49ec-bd40-766966071200",
   "metadata": {},
   "outputs": [],
   "source": [
    "def peek(mini_batch, batch_id):\n",
    "    first_row = mini_batch.take(1)\n",
    "\n",
    "    if first_row:\n",
    "        print(first_row[0])\n",
    "\n",
    "query = green_stream.writeStream.foreachBatch(peek).start()"
   ]
  },
  {
   "cell_type": "code",
   "execution_count": null,
   "id": "905d7d42-3b67-4226-8565-8e6bf37f0f74",
   "metadata": {},
   "outputs": [],
   "source": [
    "query.stop()"
   ]
  },
  {
   "cell_type": "markdown",
   "id": "2291b652-13a3-4de0-9ad5-10ac092b6748",
   "metadata": {},
   "source": [
    "#  Parsing the data"
   ]
  },
  {
   "cell_type": "code",
   "execution_count": null,
   "id": "885c7623-ff50-4130-b8d9-46cfcafb032c",
   "metadata": {},
   "outputs": [],
   "source": [
    "from pyspark.sql import types\n",
    "\n",
    "schema = types.StructType() \\\n",
    "    .add(\"lpep_pickup_datetime\", types.StringType()) \\\n",
    "    .add(\"lpep_dropoff_datetime\", types.StringType()) \\\n",
    "    .add(\"PULocationID\", types.IntegerType()) \\\n",
    "    .add(\"DOLocationID\", types.IntegerType()) \\\n",
    "    .add(\"passenger_count\", types.DoubleType()) \\\n",
    "    .add(\"trip_distance\", types.DoubleType()) \\\n",
    "    .add(\"tip_amount\", types.DoubleType())"
   ]
  },
  {
   "cell_type": "code",
   "execution_count": null,
   "id": "15fe4051-0391-49f0-a5a3-8aa2b83f74ef",
   "metadata": {},
   "outputs": [],
   "source": [
    "from pyspark.sql import functions as F\n",
    "\n",
    "green_stream = green_stream \\\n",
    "  .select(F.from_json(F.col(\"value\").cast('STRING'), schema).alias(\"data\")) \\\n",
    "  .select(\"data.*\")"
   ]
  },
  {
   "cell_type": "code",
   "execution_count": null,
   "id": "9d5cb98a-970e-4d07-acd6-56eae69bb8e0",
   "metadata": {},
   "outputs": [],
   "source": [
    "query = green_stream.writeStream.foreachBatch(peek).start()"
   ]
  },
  {
   "cell_type": "code",
   "execution_count": null,
   "id": "38e8611a-72ed-48de-89fc-b8ef4e434cd4",
   "metadata": {},
   "outputs": [],
   "source": [
    "query.stop()"
   ]
  },
  {
   "cell_type": "markdown",
   "id": "81f7121a-653e-450e-b110-bb74013dd7f5",
   "metadata": {},
   "source": [
    "# Most popular destination"
   ]
  },
  {
   "cell_type": "code",
   "execution_count": null,
   "id": "f6b310f4-2dae-43fb-b36b-97ebe946f4fc",
   "metadata": {},
   "outputs": [],
   "source": [
    "green_stream = green_stream \\\n",
    "        .withColumn('timestamp', F.current_timestamp())"
   ]
  },
  {
   "cell_type": "code",
   "execution_count": null,
   "id": "9dda1aa9-1aa8-468e-baed-7c413c1ef488",
   "metadata": {},
   "outputs": [],
   "source": [
    "from pyspark.sql.functions import col\n",
    "from pyspark.sql.functions import desc\n",
    "\n",
    "popular_destinations = green_stream.groupBy(\n",
    "        F.window(col(\"timestamp\"), \"5 minutes\"),\n",
    "        green_stream.DOLocationID\n",
    "    ).count().sort(desc(\"count\"))"
   ]
  },
  {
   "cell_type": "code",
   "execution_count": null,
   "id": "31fc9347-a81c-462c-bf7c-64e258cd79cb",
   "metadata": {},
   "outputs": [],
   "source": [
    "query = popular_destinations \\\n",
    "    .writeStream \\\n",
    "    .outputMode(\"complete\") \\\n",
    "    .format(\"console\") \\\n",
    "    .option(\"truncate\", \"false\") \\\n",
    "    .start()\n",
    "\n",
    "query.awaitTermination()"
   ]
  }
 ],
 "metadata": {
  "kernelspec": {
   "display_name": "Python 3 (ipykernel)",
   "language": "python",
   "name": "python3"
  },
  "language_info": {
   "codemirror_mode": {
    "name": "ipython",
    "version": 3
   },
   "file_extension": ".py",
   "mimetype": "text/x-python",
   "name": "python",
   "nbconvert_exporter": "python",
   "pygments_lexer": "ipython3",
   "version": "3.11.7"
  }
 },
 "nbformat": 4,
 "nbformat_minor": 5
}
